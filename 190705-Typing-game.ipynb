{
 "cells": [
  {
   "cell_type": "code",
   "execution_count": null,
   "metadata": {},
   "outputs": [
    {
     "name": "stdout",
     "output_type": "stream",
     "text": [
      "Start typing the words!\n",
      "{'likely', 'plane', 'wave', 'rejoice', 'painting'}\n"
     ]
    },
    {
     "name": "stdin",
     "output_type": "stream",
     "text": [
      "Word 1: likely\n",
      " likely\n"
     ]
    },
    {
     "name": "stdout",
     "output_type": "stream",
     "text": [
      "Well done!\n",
      "7 seconds remain\n"
     ]
    },
    {
     "name": "stdin",
     "output_type": "stream",
     "text": [
      "Word 2: plane\n",
      " plane\n"
     ]
    },
    {
     "name": "stdout",
     "output_type": "stream",
     "text": [
      "Well done!\n",
      "4 seconds remain\n"
     ]
    },
    {
     "name": "stdin",
     "output_type": "stream",
     "text": [
      "Word 3: wave\n",
      " wave\n"
     ]
    },
    {
     "name": "stdout",
     "output_type": "stream",
     "text": [
      "Well done!\n",
      "2 seconds remain\n"
     ]
    },
    {
     "name": "stdin",
     "output_type": "stream",
     "text": [
      "Word 4: rejoice\n",
      " rejoice\n"
     ]
    },
    {
     "name": "stdout",
     "output_type": "stream",
     "text": [
      "0 seconds remain\n"
     ]
    },
    {
     "name": "stdin",
     "output_type": "stream",
     "text": [
      "Your score is: 3\n",
      " Do yo want to play the next level? y/n x\n",
      "Your score is: 3\n",
      " Do yo want to play the next level? y/n y\n"
     ]
    },
    {
     "name": "stdout",
     "output_type": "stream",
     "text": [
      "{'apple', 'wave', 'direction', 'whimsical', 'crowd'}\n"
     ]
    },
    {
     "name": "stdin",
     "output_type": "stream",
     "text": [
      "Word 1: apple\n",
      " apple\n"
     ]
    },
    {
     "name": "stdout",
     "output_type": "stream",
     "text": [
      "Well done!\n",
      "7 seconds remain\n"
     ]
    },
    {
     "name": "stdin",
     "output_type": "stream",
     "text": [
      "Word 2: wave\n",
      " wave\n"
     ]
    },
    {
     "name": "stdout",
     "output_type": "stream",
     "text": [
      "Well done!\n",
      "4 seconds remain\n"
     ]
    },
    {
     "name": "stdin",
     "output_type": "stream",
     "text": [
      "Word 3: direction\n",
      " direction\n"
     ]
    },
    {
     "name": "stdout",
     "output_type": "stream",
     "text": [
      "Well done!\n",
      "2 seconds remain\n"
     ]
    },
    {
     "name": "stdin",
     "output_type": "stream",
     "text": [
      "Word 4: whimsical\n",
      " whimsical\n"
     ]
    },
    {
     "name": "stdout",
     "output_type": "stream",
     "text": [
      "-1 seconds remain\n"
     ]
    },
    {
     "name": "stdin",
     "output_type": "stream",
     "text": [
      "Your score is: 6\n",
      " Do yo want to play the next level? y/n y\n"
     ]
    },
    {
     "name": "stdout",
     "output_type": "stream",
     "text": [
      "{'describe', 'apple', 'high', 'bitter', 'painting'}\n"
     ]
    }
   ],
   "source": [
    "import random\n",
    "import time #!!\n",
    "#!pip install playsound\n",
    "#import playsound\n",
    "\n",
    "randomwords = ['playground', 'there', 'ambitious', 'flat', 'paint', 'describe', 'likely', 'plane', 'happy', 'curly', 'alien', 'bitter', 'brush', 'rejoice', 'ambitious', 'amount', 'fuel', 'wave', 'up', 'button', 'sunshine','volatile','giants','windy','high','use','crowd', 'apple']\n",
    "\n",
    "\n",
    "def getRandomSample(): # A function that gets a random sample, this sample is transformed into a set :D\n",
    "    return set(random.sample(randomwords, n))\n",
    "\n",
    "def game(levelTime,level,previousScore):\n",
    "    s_obji = getRandomSample()  #The sample is converted into set\n",
    "    score = previousScore #If the player continues, the previous score is saved here ;D\n",
    "    #hearts = 3 # When this counter is = 0 --> Game over!\n",
    "    print(s_obji) # the set that will be used!\n",
    "    wordnumber=1\n",
    "    time_start = time.time()\n",
    "    while (len(s_obji) != 0) and (time.time()-time_start<levelTime):\n",
    "        word = s_obji.pop()\n",
    "        usr_input = input(\"Word {0}: {1}\\n\".format(wordnumber,word))\n",
    "        if (usr_input == word) and (time.time()-time_start<levelTime):\n",
    "            score = (score + 1)\n",
    "            print('Well done!')\n",
    "        elif usr_input != word:\n",
    "            print('Fail')\n",
    "        wordnumber += 1\n",
    "        print(int(levelTime-(time.time()-time_start)),\"seconds remain\")\n",
    "    return score\n",
    "\n",
    "def askContinue():\n",
    "    correctAnswer = False\n",
    "    startInput = False\n",
    "    while(correctAnswer==False):\n",
    "        startInput = input(\"Your score is: {}\\n Do yo want to play the next level? y/n\".format(previousScore))\n",
    "        if startInput==\"y\" or startInput==\"n\":\n",
    "            correctAnswer = True\n",
    "        else:\n",
    "            correctAnswer = False\n",
    "    if startInput==\"y\":\n",
    "        startInput = True\n",
    "    else:\n",
    "        startInput = False\n",
    "    return startInput\n",
    "\n",
    "#----------------------------------------------\n",
    "print('Start typing the words!')\n",
    "levelTime = 10\n",
    "level = 1\n",
    "previousScore = 0\n",
    "n = 5\n",
    "\n",
    "Continue = True\n",
    "while Continue:\n",
    "    roundScore = previousScore\n",
    "    previousScore = game(levelTime, level, previousScore)\n",
    "    roundScore = previousScore-roundScore\n",
    "\n",
    "    #playsound.playsound('Gidge - For Seoul Part I.mp3', True)\n",
    "    if roundScore < 3:\n",
    "        print(\"Game over, you didnt get the minimum score\")\n",
    "        Continue = False\n",
    "    else:\n",
    "        Continue = askContinue()\n",
    "    levelTime -= 0.5\n",
    "        \n",
    "print(\"Your score was: {}\".format(previousScore))        \n",
    "    \n"
   ]
  },
  {
   "cell_type": "code",
   "execution_count": null,
   "metadata": {},
   "outputs": [],
   "source": []
  },
  {
   "cell_type": "code",
   "execution_count": null,
   "metadata": {},
   "outputs": [],
   "source": []
  },
  {
   "cell_type": "code",
   "execution_count": null,
   "metadata": {},
   "outputs": [],
   "source": []
  },
  {
   "cell_type": "code",
   "execution_count": null,
   "metadata": {},
   "outputs": [],
   "source": []
  }
 ],
 "metadata": {
  "kernelspec": {
   "display_name": "Python 3",
   "language": "python",
   "name": "python3"
  },
  "language_info": {
   "codemirror_mode": {
    "name": "ipython",
    "version": 3
   },
   "file_extension": ".py",
   "mimetype": "text/x-python",
   "name": "python",
   "nbconvert_exporter": "python",
   "pygments_lexer": "ipython3",
   "version": "3.7.3"
  }
 },
 "nbformat": 4,
 "nbformat_minor": 4
}
