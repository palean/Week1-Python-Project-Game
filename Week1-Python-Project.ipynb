{
 "cells": [
  {
   "cell_type": "code",
   "execution_count": null,
   "metadata": {},
   "outputs": [],
   "source": [
    "import random\n",
    "#diccionario en inglés\n",
    "randomwords = ['hola', 'correveydile', 'lazarillo', 'auriculares', 'puesto', 'ordenador', 'programador', 'taza', 'nombre', 'persona', 'alien', 'ser', 'televisor', 'esternocleidomastoideo', 'azul', 'verde', 'mar', 'lila', 'pulsera', 'reloj', 'teléfono']\n",
    "max_score = 100000\n",
    "total_score = 0\n",
    "\n",
    "n = 10\n",
    "l_obj = random.sample(randomwords, n)\n",
    "\n",
    "def juego():\n",
    "   l_obji = l_obj\n",
    "   score = 0\n",
    "   print(l_obji)\n",
    "\n",
    "   usr_input = input('Start typing all the words in the given order! After the word, press enter!!')\n",
    "\n",
    "   while score < 10:\n",
    "       if usr_input in l_obji:\n",
    "           score = score + 1\n",
    "           print('SCORE:{}'.format(score))\n",
    "           usr_input = str(input('go on:'))\n",
    "           l_obji = l_obji[score:]\n",
    "           print(l_obji)\n",
    "       elif usr_input not in l_obji:\n",
    "           usr_input = input('No match, go on: ')\n",
    "   print(score)\n",
    "   return score\n",
    "\n",
    "juego()\n",
    "#var = juego()\n",
    "#while total_score < max_score:\n",
    "   #if var > 0.7:\n",
    "       #juego()\n",
    "   #elif var < 0.7:\n",
    "       #print('Game over, amigo')"
   ]
  }
 ],
 "metadata": {
  "kernelspec": {
   "display_name": "Python 3",
   "language": "python",
   "name": "python3"
  },
  "language_info": {
   "codemirror_mode": {
    "name": "ipython",
    "version": 3
   },
   "file_extension": ".py",
   "mimetype": "text/x-python",
   "name": "python",
   "nbconvert_exporter": "python",
   "pygments_lexer": "ipython3",
   "version": "3.7.3"
  }
 },
 "nbformat": 4,
 "nbformat_minor": 4
}
